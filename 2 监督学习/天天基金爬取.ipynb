{
 "cells": [
  {
   "cell_type": "code",
   "execution_count": 19,
   "metadata": {},
   "outputs": [],
   "source": [
    "%matplotlib inline\n",
    "import matplotlib as plt"
   ]
  },
  {
   "cell_type": "code",
   "execution_count": 24,
   "metadata": {},
   "outputs": [],
   "source": [
    "import tushare as ts\n",
    "df = ts.get_hist_data('162411',start=\"20110929\")"
   ]
  },
  {
   "cell_type": "code",
   "execution_count": 26,
   "metadata": {},
   "outputs": [
    {
     "data": {
      "text/html": [
       "<div>\n",
       "<style scoped>\n",
       "    .dataframe tbody tr th:only-of-type {\n",
       "        vertical-align: middle;\n",
       "    }\n",
       "\n",
       "    .dataframe tbody tr th {\n",
       "        vertical-align: top;\n",
       "    }\n",
       "\n",
       "    .dataframe thead th {\n",
       "        text-align: right;\n",
       "    }\n",
       "</style>\n",
       "<table border=\"1\" class=\"dataframe\">\n",
       "  <thead>\n",
       "    <tr style=\"text-align: right;\">\n",
       "      <th></th>\n",
       "      <th>open</th>\n",
       "      <th>high</th>\n",
       "      <th>close</th>\n",
       "      <th>low</th>\n",
       "      <th>volume</th>\n",
       "      <th>price_change</th>\n",
       "      <th>p_change</th>\n",
       "      <th>ma5</th>\n",
       "      <th>ma10</th>\n",
       "      <th>ma20</th>\n",
       "      <th>v_ma5</th>\n",
       "      <th>v_ma10</th>\n",
       "      <th>v_ma20</th>\n",
       "    </tr>\n",
       "    <tr>\n",
       "      <th>date</th>\n",
       "      <th></th>\n",
       "      <th></th>\n",
       "      <th></th>\n",
       "      <th></th>\n",
       "      <th></th>\n",
       "      <th></th>\n",
       "      <th></th>\n",
       "      <th></th>\n",
       "      <th></th>\n",
       "      <th></th>\n",
       "      <th></th>\n",
       "      <th></th>\n",
       "      <th></th>\n",
       "    </tr>\n",
       "  </thead>\n",
       "  <tbody>\n",
       "    <tr>\n",
       "      <th>2019-06-04</th>\n",
       "      <td>0.45</td>\n",
       "      <td>0.46</td>\n",
       "      <td>0.45</td>\n",
       "      <td>0.45</td>\n",
       "      <td>1827518.50</td>\n",
       "      <td>0.00</td>\n",
       "      <td>0.00</td>\n",
       "      <td>0.460</td>\n",
       "      <td>0.478</td>\n",
       "      <td>0.494</td>\n",
       "      <td>2359972.20</td>\n",
       "      <td>1773194.40</td>\n",
       "      <td>1322531.34</td>\n",
       "    </tr>\n",
       "    <tr>\n",
       "      <th>2019-06-03</th>\n",
       "      <td>0.45</td>\n",
       "      <td>0.46</td>\n",
       "      <td>0.45</td>\n",
       "      <td>0.45</td>\n",
       "      <td>2416919.50</td>\n",
       "      <td>-0.01</td>\n",
       "      <td>-2.17</td>\n",
       "      <td>0.468</td>\n",
       "      <td>0.484</td>\n",
       "      <td>0.497</td>\n",
       "      <td>2275159.20</td>\n",
       "      <td>1654771.52</td>\n",
       "      <td>1268672.81</td>\n",
       "    </tr>\n",
       "    <tr>\n",
       "      <th>2019-05-31</th>\n",
       "      <td>0.46</td>\n",
       "      <td>0.46</td>\n",
       "      <td>0.46</td>\n",
       "      <td>0.46</td>\n",
       "      <td>3045387.75</td>\n",
       "      <td>-0.01</td>\n",
       "      <td>-2.13</td>\n",
       "      <td>0.476</td>\n",
       "      <td>0.491</td>\n",
       "      <td>0.499</td>\n",
       "      <td>1982134.15</td>\n",
       "      <td>1481366.92</td>\n",
       "      <td>1239267.24</td>\n",
       "    </tr>\n",
       "    <tr>\n",
       "      <th>2019-05-30</th>\n",
       "      <td>0.47</td>\n",
       "      <td>0.47</td>\n",
       "      <td>0.47</td>\n",
       "      <td>0.47</td>\n",
       "      <td>1089420.50</td>\n",
       "      <td>0.00</td>\n",
       "      <td>0.00</td>\n",
       "      <td>0.482</td>\n",
       "      <td>0.497</td>\n",
       "      <td>0.503</td>\n",
       "      <td>1761524.25</td>\n",
       "      <td>1360270.65</td>\n",
       "      <td>1109783.91</td>\n",
       "    </tr>\n",
       "    <tr>\n",
       "      <th>2019-05-29</th>\n",
       "      <td>0.47</td>\n",
       "      <td>0.47</td>\n",
       "      <td>0.47</td>\n",
       "      <td>0.47</td>\n",
       "      <td>3420614.75</td>\n",
       "      <td>-0.02</td>\n",
       "      <td>-4.08</td>\n",
       "      <td>0.488</td>\n",
       "      <td>0.501</td>\n",
       "      <td>0.505</td>\n",
       "      <td>1772055.05</td>\n",
       "      <td>1305156.75</td>\n",
       "      <td>1090644.42</td>\n",
       "    </tr>\n",
       "  </tbody>\n",
       "</table>\n",
       "</div>"
      ],
      "text/plain": [
       "            open  high  close   low      volume  price_change  p_change  \\\n",
       "date                                                                      \n",
       "2019-06-04  0.45  0.46   0.45  0.45  1827518.50          0.00      0.00   \n",
       "2019-06-03  0.45  0.46   0.45  0.45  2416919.50         -0.01     -2.17   \n",
       "2019-05-31  0.46  0.46   0.46  0.46  3045387.75         -0.01     -2.13   \n",
       "2019-05-30  0.47  0.47   0.47  0.47  1089420.50          0.00      0.00   \n",
       "2019-05-29  0.47  0.47   0.47  0.47  3420614.75         -0.02     -4.08   \n",
       "\n",
       "              ma5   ma10   ma20       v_ma5      v_ma10      v_ma20  \n",
       "date                                                                 \n",
       "2019-06-04  0.460  0.478  0.494  2359972.20  1773194.40  1322531.34  \n",
       "2019-06-03  0.468  0.484  0.497  2275159.20  1654771.52  1268672.81  \n",
       "2019-05-31  0.476  0.491  0.499  1982134.15  1481366.92  1239267.24  \n",
       "2019-05-30  0.482  0.497  0.503  1761524.25  1360270.65  1109783.91  \n",
       "2019-05-29  0.488  0.501  0.505  1772055.05  1305156.75  1090644.42  "
      ]
     },
     "execution_count": 26,
     "metadata": {},
     "output_type": "execute_result"
    }
   ],
   "source": [
    "df.head()"
   ]
  },
  {
   "cell_type": "code",
   "execution_count": 17,
   "metadata": {},
   "outputs": [
    {
     "data": {
      "text/plain": [
       "0.5940722495894925"
      ]
     },
     "execution_count": 17,
     "metadata": {},
     "output_type": "execute_result"
    }
   ],
   "source": [
    "df.close.mean()"
   ]
  },
  {
   "cell_type": "code",
   "execution_count": 22,
   "metadata": {},
   "outputs": [
    {
     "data": {
      "text/plain": [
       "count    609.000000\n",
       "mean       0.594072\n",
       "std        0.074944\n",
       "min        0.440000\n",
       "25%        0.530000\n",
       "50%        0.580000\n",
       "75%        0.660000\n",
       "max        0.770000\n",
       "Name: close, dtype: float64"
      ]
     },
     "execution_count": 22,
     "metadata": {},
     "output_type": "execute_result"
    }
   ],
   "source": [
    "df.close.describe()"
   ]
  },
  {
   "cell_type": "code",
   "execution_count": 21,
   "metadata": {},
   "outputs": [
    {
     "data": {
      "image/png": "[encoded data removed]",
      "text/plain": [
       "<Figure size 432x288 with 1 Axes>"
      ]
     },
     "metadata": {},
     "output_type": "display_data"
    }
   ],
   "source": [
    "df.close.plot();"
   ]
  },
  {
   "cell_type": "code",
   "execution_count": 30,
   "metadata": {},
   "outputs": [
    {
     "name": "stdout",
     "output_type": "stream",
     "text": [
      "           净值日期   单位净值   累计净值  日增长率  申购状态  赎回状态 分红送配\n",
      "0    2011-09-29  1.000  1.000   NaN   封闭期   封闭期  nan\n",
      "1    2011-09-30  1.000  1.000  0.00   封闭期   封闭期  nan\n",
      "2    2011-10-14  1.001  1.001  0.10   封闭期   封闭期  nan\n",
      "3    2011-10-21  1.001  1.001  0.00   封闭期   封闭期  nan\n",
      "4    2011-10-24  1.001  1.001  0.00   封闭期   封闭期  nan\n",
      "5    2011-10-25  1.001  1.001  0.00  开放申购  开放赎回  nan\n",
      "6    2011-10-26  1.004  1.004  0.30  开放申购  开放赎回  nan\n",
      "7    2011-10-27  1.011  1.011  0.70  开放申购  开放赎回  nan\n",
      "8    2011-10-28  1.012  1.012  0.10  开放申购  开放赎回  nan\n",
      "9    2011-10-31  1.001  1.001 -1.09  开放申购  开放赎回  nan\n",
      "10   2011-11-01  0.993  0.993 -0.80  开放申购  开放赎回  nan\n",
      "11   2011-11-02  1.001  1.001  0.81  开放申购  开放赎回  nan\n",
      "12   2011-11-03  1.003  1.003  0.20  开放申购  开放赎回  nan\n",
      "13   2011-11-04  1.005  1.005  0.20  开放申购  开放赎回  nan\n",
      "14   2011-11-07  1.006  1.006  0.10  开放申购  开放赎回  nan\n",
      "15   2011-11-08  1.009  1.009  0.30  开放申购  开放赎回  nan\n",
      "16   2011-11-09  0.993  0.993 -1.59  开放申购  开放赎回  nan\n",
      "17   2011-11-10  0.999  0.999  0.60  开放申购  开放赎回  nan\n",
      "18   2011-11-11  1.005  1.005  0.60  开放申购  开放赎回  nan\n",
      "19   2011-11-14  0.999  0.999 -0.60  开放申购  开放赎回  nan\n",
      "20   2011-11-15  1.003  1.003  0.40  开放申购  开放赎回  nan\n",
      "21   2011-11-16  0.999  0.999 -0.40  开放申购  开放赎回  nan\n",
      "22   2011-11-17  0.988  0.988 -1.10  开放申购  开放赎回  nan\n",
      "23   2011-11-18  0.987  0.987 -0.10  开放申购  开放赎回  nan\n",
      "24   2011-11-21  0.981  0.981 -0.61  开放申购  开放赎回  nan\n",
      "25   2011-11-22  0.979  0.979 -0.20  开放申购  开放赎回  nan\n",
      "26   2011-11-23  0.968  0.968 -1.12  开放申购  开放赎回  nan\n",
      "27   2011-11-24  0.968  0.968  0.00  暂停申购  暂停赎回  nan\n",
      "28   2011-11-25  0.963  0.963 -0.52  暂停申购  暂停赎回  nan\n",
      "29   2011-11-28  0.980  0.980  1.77  开放申购  开放赎回  nan\n",
      "...         ...    ...    ...   ...   ...   ...  ...\n",
      "1832 2019-04-18  0.531  0.531 -1.30  开放申购  开放赎回  nan\n",
      "1833 2019-04-19  0.532  0.532  0.19  暂停申购  暂停赎回  nan\n",
      "1834 2019-04-22  0.550  0.550  3.38  开放申购  开放赎回  nan\n",
      "1835 2019-04-23  0.550  0.550  0.00  开放申购  开放赎回  nan\n",
      "1836 2019-04-24  0.541  0.541 -1.64  开放申购  开放赎回  nan\n",
      "1837 2019-04-25  0.533  0.533 -1.48  开放申购  开放赎回  nan\n",
      "1838 2019-04-26  0.526  0.526 -1.31  开放申购  开放赎回  nan\n",
      "1839 2019-04-29  0.525  0.525 -0.19  开放申购  开放赎回  nan\n",
      "1840 2019-04-30  0.520  0.520 -0.95  开放申购  开放赎回  nan\n",
      "1841 2019-05-06  0.504  0.504 -3.08  开放申购  开放赎回  nan\n",
      "1842 2019-05-07  0.499  0.499 -0.99  开放申购  开放赎回  nan\n",
      "1843 2019-05-08  0.503  0.503  0.80  开放申购  开放赎回  nan\n",
      "1844 2019-05-09  0.503  0.503  0.00  开放申购  开放赎回  nan\n",
      "1845 2019-05-10  0.506  0.506  0.60  开放申购  开放赎回  nan\n",
      "1846 2019-05-13  0.490  0.490 -3.16  开放申购  开放赎回  nan\n",
      "1847 2019-05-14  0.505  0.505  3.06  开放申购  开放赎回  nan\n",
      "1848 2019-05-15  0.512  0.512  1.39  开放申购  开放赎回  nan\n",
      "1849 2019-05-16  0.518  0.518  1.17  开放申购  开放赎回  nan\n",
      "1850 2019-05-17  0.507  0.507 -2.12  开放申购  开放赎回  nan\n",
      "1851 2019-05-20  0.504  0.504 -0.59  开放申购  开放赎回  nan\n",
      "1852 2019-05-21  0.516  0.516  2.38  开放申购  开放赎回  nan\n",
      "1853 2019-05-22  0.495  0.495 -4.07  开放申购  开放赎回  nan\n",
      "1854 2019-05-23  0.469  0.469 -5.25  开放申购  开放赎回  nan\n",
      "1855 2019-05-24  0.470  0.470  0.21  开放申购  开放赎回  nan\n",
      "1856 2019-05-27  0.469  0.469 -0.21  暂停申购  暂停赎回  nan\n",
      "1857 2019-05-28  0.464  0.464 -1.07  开放申购  开放赎回  nan\n",
      "1858 2019-05-29  0.466  0.466  0.43  开放申购  开放赎回  nan\n",
      "1859 2019-05-30  0.454  0.454 -2.58  开放申购  开放赎回  nan\n",
      "1860 2019-05-31  0.446  0.446 -1.76  开放申购  开放赎回  nan\n",
      "1861 2019-06-03  0.450  0.450  0.90  开放申购  开放赎回  nan\n",
      "\n",
      "[1862 rows x 7 columns]\n"
     ]
    },
    {
     "data": {
      "image/png": "[encoded data removed]",
      "text/plain": [
       "<Figure size 432x288 with 2 Axes>"
      ]
     },
     "metadata": {},
     "output_type": "display_data"
    },
    {
     "data": {
      "image/png": "[encoded data removed]",
      "text/plain": [
       "<Figure size 432x288 with 1 Axes>"
      ]
     },
     "metadata": {},
     "output_type": "display_data"
    },
    {
     "name": "stdout",
     "output_type": "stream",
     "text": [
      "日增长率缺失： 7\n",
      "日增长率为正的天数： 875\n",
      "日增长率为负（包含0）的天数： 980\n"
     ]
    }
   ],
   "source": [
    "# 导入需要的模块\n",
    "import requests\n",
    "from bs4 import BeautifulSoup\n",
    "import re\n",
    "import numpy as np\n",
    "import pandas as pd\n",
    "import matplotlib.pyplot as plt\n",
    "import matplotlib\n",
    "\n",
    "#指定默认字体\n",
    "matplotlib.rcParams['font.sans-serif'] = ['SimHei']\n",
    "matplotlib.rcParams['font.family']='sans-serif'\n",
    "#解决负号'-'显示为方块的问题\n",
    "matplotlib.rcParams['axes.unicode_minus'] = False\n",
    "\n",
    "# 抓取网页\n",
    "def get_url(url, params=None, proxies=None):\n",
    "    rsp = requests.get(url, params=params, proxies=proxies)\n",
    "    rsp.raise_for_status()\n",
    "    return rsp.text\n",
    "\n",
    "# 从网页抓取数据\n",
    "def get_fund_data(code,per=10,sdate='',edate='',proxies=None):\n",
    "    url = 'http://fund.eastmoney.com/f10/F10DataApi.aspx'\n",
    "    params = {'type': 'lsjz', 'code': code, 'page':1,'per': per, 'sdate': sdate, 'edate': edate}\n",
    "    html = get_url(url, params, proxies)\n",
    "    soup = BeautifulSoup(html, 'html.parser')\n",
    "\n",
    "    # 获取总页数\n",
    "    pattern=re.compile(r'pages:(.*),')\n",
    "    result=re.search(pattern,html).group(1)\n",
    "    pages=int(result)\n",
    "\n",
    "    # 获取表头\n",
    "    heads = []\n",
    "    for head in soup.findAll(\"th\"):\n",
    "        heads.append(head.contents[0])\n",
    "\n",
    "    # 数据存取列表\n",
    "    records = []\n",
    "\n",
    "    # 从第1页开始抓取所有页面数据\n",
    "    page=1\n",
    "    while page<=pages:\n",
    "        params = {'type': 'lsjz', 'code': code, 'page':page,'per': per, 'sdate': sdate, 'edate': edate}\n",
    "        html = get_url(url, params, proxies)\n",
    "        soup = BeautifulSoup(html, 'html.parser')\n",
    "\n",
    "        # 获取数据\n",
    "        for row in soup.findAll(\"tbody\")[0].findAll(\"tr\"):\n",
    "            row_records = []\n",
    "            for record in row.findAll('td'):\n",
    "                val = record.contents\n",
    "\n",
    "                # 处理空值\n",
    "                if val == []:\n",
    "                    row_records.append(np.nan)\n",
    "                else:\n",
    "                    row_records.append(val[0])\n",
    "\n",
    "            # 记录数据\n",
    "            records.append(row_records)\n",
    "\n",
    "        # 下一页\n",
    "        page=page+1\n",
    "\n",
    "    # 数据整理到dataframe\n",
    "    np_records = np.array(records)\n",
    "    data= pd.DataFrame()\n",
    "    for col,col_name in enumerate(heads):\n",
    "        data[col_name] = np_records[:,col]\n",
    "\n",
    "    return data\n",
    "\n",
    "\n",
    "# 主程序\n",
    "if __name__ == \"__main__\":\n",
    "    data=get_fund_data('162411',per=49,sdate='2011-09-29',edate='2019-12-31')\n",
    "    # 修改数据类型\n",
    "    data['净值日期']=pd.to_datetime(data['净值日期'],format='%Y/%m/%d')\n",
    "    data['单位净值']= data['单位净值'].astype(float)\n",
    "    data['累计净值']=data['累计净值'].astype(float)\n",
    "    data['日增长率']=data['日增长率'].str.strip('%').astype(float)\n",
    "    # 按照日期升序排序并重建索引\n",
    "    data=data.sort_values(by='净值日期',axis=0,ascending=True).reset_index(drop=True)\n",
    "    print(data)\n",
    "\n",
    "    # 获取净值日期、单位净值、累计净值、日增长率等数据并\n",
    "    net_value_date = data['净值日期']\n",
    "    net_asset_value = data['单位净值']\n",
    "    accumulative_net_value=data['累计净值']\n",
    "    daily_growth_rate = data['日增长率']\n",
    "\n",
    "    # 作基金净值图\n",
    "    fig = plt.figure()\n",
    "    #坐标轴1\n",
    "    ax1 = fig.add_subplot(111)\n",
    "    ax1.plot(net_value_date,net_asset_value)\n",
    "    ax1.plot(net_value_date,accumulative_net_value)\n",
    "    ax1.set_ylabel('净值数据')\n",
    "    ax1.set_xlabel('日期')\n",
    "    plt.legend(loc='upper left')\n",
    "    #坐标轴2\n",
    "    ax2 = ax1.twinx()\n",
    "    ax2.plot(net_value_date,daily_growth_rate,'r')\n",
    "    ax2.set_ylabel('日增长率（%）')\n",
    "    plt.legend(loc='upper right')\n",
    "    plt.title('基金净值数据')\n",
    "    plt.show()\n",
    "\n",
    "    # 绘制分红配送信息图\n",
    "    bonus = accumulative_net_value-net_asset_value\n",
    "    plt.figure()\n",
    "    plt.plot(net_value_date,bonus)\n",
    "    plt.xlabel('日期')\n",
    "    plt.ylabel('累计净值-单位净值')\n",
    "    plt.title('基金“分红”信息')\n",
    "    plt.show()\n",
    "\n",
    "    # 日增长率分析\n",
    "    print('日增长率缺失：',sum(np.isnan(daily_growth_rate)))\n",
    "    print('日增长率为正的天数：',sum(daily_growth_rate>0))\n",
    "    print('日增长率为负（包含0）的天数：',sum(daily_growth_rate<=0))"
   ]
  },
  {
   "cell_type": "code",
   "execution_count": 31,
   "metadata": {},
   "outputs": [
    {
     "name": "stdout",
     "output_type": "stream",
     "text": [
      "<class 'pandas.core.frame.DataFrame'>\n",
      "RangeIndex: 1862 entries, 0 to 1861\n",
      "Data columns (total 7 columns):\n",
      "净值日期    1862 non-null datetime64[ns]\n",
      "单位净值    1862 non-null float64\n",
      "累计净值    1862 non-null float64\n",
      "日增长率    1855 non-null float64\n",
      "申购状态    1862 non-null object\n",
      "赎回状态    1862 non-null object\n",
      "分红送配    1862 non-null object\n",
      "dtypes: datetime64[ns](1), float64(3), object(3)\n",
      "memory usage: 101.9+ KB\n"
     ]
    }
   ],
   "source": [
    "data.info()"
   ]
  },
  {
   "cell_type": "code",
   "execution_count": 33,
   "metadata": {},
   "outputs": [
    {
     "data": {
      "text/plain": [
       "<matplotlib.axes._subplots.AxesSubplot at 0x1f5a0c152b0>"
      ]
     },
     "execution_count": 33,
     "metadata": {},
     "output_type": "execute_result"
    },
    {
     "data": {
      "image/png": "[encoded data removed]",
      "text/plain": [
       "<Figure size 432x288 with 1 Axes>"
      ]
     },
     "metadata": {},
     "output_type": "display_data"
    }
   ],
   "source": [
    "data[\"单位净值\"].plot()"
   ]
  },
  {
   "cell_type": "code",
   "execution_count": 44,
   "metadata": {},
   "outputs": [
    {
     "data": {
      "text/plain": [
       "0.7852545649838873"
      ]
     },
     "execution_count": 44,
     "metadata": {},
     "output_type": "execute_result"
    }
   ],
   "source": [
    "data[\"单位净值\"].mean()"
   ]
  },
  {
   "cell_type": "code",
   "execution_count": 48,
   "metadata": {},
   "outputs": [],
   "source": [
    "data.to_excel(\"162411.xls\")"
   ]
  }
 ],
 "metadata": {
  "kernelspec": {
   "display_name": "Python 3",
   "language": "python",
   "name": "python3"
  },
  "language_info": {
   "codemirror_mode": {
    "name": "ipython",
    "version": 3
   },
   "file_extension": ".py",
   "mimetype": "text/x-python",
   "name": "python",
   "nbconvert_exporter": "python",
   "pygments_lexer": "ipython3",
   "version": "3.6.6"
  }
 },
 "nbformat": 4,
 "nbformat_minor": 2
}
